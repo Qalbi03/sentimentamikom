{
  "nbformat": 4,
  "nbformat_minor": 0,
  "metadata": {
    "colab": {
      "provenance": []
    },
    "kernelspec": {
      "name": "python3",
      "display_name": "Python 3"
    },
    "language_info": {
      "name": "python"
    }
  },
  "cells": [
    {
      "cell_type": "code",
      "execution_count": 3,
      "metadata": {
        "colab": {
          "base_uri": "https://localhost:8080/"
        },
        "id": "gNZ9CJFlo5QL",
        "outputId": "a5e0c048-4f4d-4928-e4da-cea13fbf4b14"
      },
      "outputs": [
        {
          "output_type": "stream",
          "name": "stdout",
          "text": [
            "Data loaded and cleaned.\n",
            "Sentiment analysis completed.\n",
            "Data berhasil disimpan ke sentiment_data.pkl\n"
          ]
        }
      ],
      "source": [
        "import pandas as pd\n",
        "from textblob import TextBlob\n",
        "import pickle\n",
        "\n",
        "# 1. Memuat dan membersihkan data\n",
        "data = pd.read_csv('/content/drive/MyDrive/SEMESTER 6/PROYEK DATA MINING/FINAL PROJECT/scraping_FP.csv')\n",
        "data = data.drop_duplicates()\n",
        "print(\"Data loaded and cleaned.\")\n",
        "\n",
        "# 2. Melakukan sentiment analysis\n",
        "def get_sentiment(text):\n",
        "    blob = TextBlob(text)\n",
        "    return blob.sentiment.polarity\n",
        "\n",
        "data['sentiment'] = data['content'].apply(get_sentiment)\n",
        "print(\"Sentiment analysis completed.\")\n",
        "\n",
        "# 3. Menyimpan hasilnya ke dalam file .pkl\n",
        "with open('sentiment_data.pkl', 'wb') as file:\n",
        "    pickle.dump(data, file)\n",
        "\n",
        "print(\"Data berhasil disimpan ke sentiment_data.pkl\")\n"
      ]
    },
    {
      "cell_type": "code",
      "source": [
        "with open('sentiment_data.pkl', 'rb') as file:\n",
        "    loaded_data = pickle.load(file)\n",
        "\n",
        "print(loaded_data.head())\n"
      ],
      "metadata": {
        "colab": {
          "base_uri": "https://localhost:8080/"
        },
        "id": "kSCuRBoMuNt8",
        "outputId": "26254101-e207-40c8-99c3-5db6024435a2"
      },
      "execution_count": 4,
      "outputs": [
        {
          "output_type": "stream",
          "name": "stdout",
          "text": [
            "          userName  score                   at  \\\n",
            "0  Pengguna Google      1  2019-03-29 06:44:37   \n",
            "2  Pengguna Google      5  2019-03-29 21:42:35   \n",
            "4  Pengguna Google      5  2019-03-31 13:33:51   \n",
            "6  Pengguna Google      5  2019-03-31 14:21:26   \n",
            "8  Pengguna Google      3  2019-04-01 00:22:01   \n",
            "\n",
            "                                             content  sentiment  \n",
            "0  untuk console masih ngelag padahal saya udah p...        0.0  \n",
            "2                        bagus, bisa buat cheat pubg        0.0  \n",
            "4  ditambahin kalender akademik, news tentang ami...        0.1  \n",
            "6                                            mantull        0.0  \n",
            "8  tolong scannernya agar bisa di zoom, kasihan k...        0.0  \n"
          ]
        }
      ]
    }
  ]
}